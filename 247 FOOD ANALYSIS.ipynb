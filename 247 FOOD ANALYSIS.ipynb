{
 "cells": [
  {
   "cell_type": "markdown",
   "id": "6a0516cd",
   "metadata": {},
   "source": [
    "# 247 FOOD ANALYSIS"
   ]
  },
  {
   "cell_type": "code",
   "execution_count": 2,
   "id": "74670370",
   "metadata": {},
   "outputs": [
    {
     "name": "stderr",
     "output_type": "stream",
     "text": [
      "C:\\Users\\PRECIOUS ONYEDEKE\\AppData\\Roaming\\Python\\Python39\\site-packages\\matplotlib\\projections\\__init__.py:63: UserWarning: Unable to import Axes3D. This may be due to multiple versions of Matplotlib being installed (e.g. as a system package and as a pip package). As a result, the 3D projection is not available.\n",
      "  warnings.warn(\"Unable to import Axes3D. This may be due to multiple versions of \"\n"
     ]
    }
   ],
   "source": [
    "import pandas as pd\n",
    "import matplotlib.pyplot as plt\n",
    "import seaborn as sns\n",
    "import matplotlib.colors as mcolors\n",
    "sns.set()\n",
    "customer_table = pd.read_csv(\"247foods_customer_table.csv\")\n",
    "order_table = pd.read_csv(\"247foods_order_table.csv\")\n",
    "logistics_table = pd.read_csv(\"247foods_logistic_table.csv\")\n"
   ]
  },
  {
   "cell_type": "markdown",
   "id": "83667337",
   "metadata": {},
   "source": [
    "# Data cleaning for customer table"
   ]
  },
  {
   "cell_type": "code",
   "execution_count": 3,
   "id": "08454606",
   "metadata": {},
   "outputs": [
    {
     "name": "stdout",
     "output_type": "stream",
     "text": [
      "<class 'pandas.core.frame.DataFrame'>\n",
      "RangeIndex: 10000 entries, 0 to 9999\n",
      "Data columns (total 12 columns):\n",
      " #   Column           Non-Null Count  Dtype \n",
      "---  ------           --------------  ----- \n",
      " 0   id               10000 non-null  int64 \n",
      " 1   customer_id      10000 non-null  int64 \n",
      " 2   first_name       10000 non-null  object\n",
      " 3   last_name        10000 non-null  object\n",
      " 4   state            10000 non-null  object\n",
      " 5   email            10000 non-null  object\n",
      " 6   rating           10000 non-null  int64 \n",
      " 7   phone_number     10000 non-null  int64 \n",
      " 8   amount_bought    10000 non-null  int64 \n",
      " 9   customer_review  10000 non-null  object\n",
      " 10  price            10000 non-null  int64 \n",
      " 11  product_bought   10000 non-null  object\n",
      "dtypes: int64(6), object(6)\n",
      "memory usage: 937.6+ KB\n"
     ]
    }
   ],
   "source": [
    "customer_table.info()"
   ]
  },
  {
   "cell_type": "markdown",
   "id": "243267a0",
   "metadata": {},
   "source": [
    "the data contained no null value"
   ]
  },
  {
   "cell_type": "code",
   "execution_count": 4,
   "id": "b356842d",
   "metadata": {},
   "outputs": [],
   "source": [
    "#renaming amounnt bought to quantity\n",
    "customer_table = customer_table.rename(columns={'amount_bought': 'Quantity'})\n",
    "order_table = order_table.rename(columns={'amount_bought': 'Quantity'})\n"
   ]
  },
  {
   "cell_type": "code",
   "execution_count": 5,
   "id": "3b05f3ce",
   "metadata": {},
   "outputs": [],
   "source": [
    "customer_table=customer_table.drop(columns=['id'])\n",
    "order_table=order_table.drop(columns=['id'])"
   ]
  },
  {
   "cell_type": "code",
   "execution_count": 6,
   "id": "56e1765c",
   "metadata": {},
   "outputs": [
    {
     "name": "stdout",
     "output_type": "stream",
     "text": [
      "<class 'pandas.core.frame.DataFrame'>\n",
      "RangeIndex: 10000 entries, 0 to 9999\n",
      "Data columns (total 11 columns):\n",
      " #   Column           Non-Null Count  Dtype \n",
      "---  ------           --------------  ----- \n",
      " 0   customer_id      10000 non-null  int64 \n",
      " 1   first_name       10000 non-null  object\n",
      " 2   last_name        10000 non-null  object\n",
      " 3   state            10000 non-null  object\n",
      " 4   email            10000 non-null  object\n",
      " 5   rating           10000 non-null  int64 \n",
      " 6   phone_number     10000 non-null  int64 \n",
      " 7   Quantity         10000 non-null  int64 \n",
      " 8   customer_review  10000 non-null  object\n",
      " 9   price            10000 non-null  int64 \n",
      " 10  product_bought   10000 non-null  object\n",
      "dtypes: int64(5), object(6)\n",
      "memory usage: 859.5+ KB\n"
     ]
    }
   ],
   "source": [
    "customer_table.info()"
   ]
  },
  {
   "cell_type": "code",
   "execution_count": 7,
   "id": "ad29fcfa",
   "metadata": {},
   "outputs": [
    {
     "name": "stdout",
     "output_type": "stream",
     "text": [
      "<class 'pandas.core.frame.DataFrame'>\n",
      "RangeIndex: 10000 entries, 0 to 9999\n",
      "Data columns (total 7 columns):\n",
      " #   Column         Non-Null Count  Dtype  \n",
      "---  ------         --------------  -----  \n",
      " 0   order_id       10000 non-null  float64\n",
      " 1   customer_id    10000 non-null  float64\n",
      " 2   product_id     10000 non-null  float64\n",
      " 3   Quantity       10000 non-null  float64\n",
      " 4   order_date     10000 non-null  object \n",
      " 5   delivery_date  10000 non-null  object \n",
      " 6   review         10000 non-null  object \n",
      "dtypes: float64(4), object(3)\n",
      "memory usage: 547.0+ KB\n"
     ]
    }
   ],
   "source": [
    "order_table.info()"
   ]
  },
  {
   "cell_type": "code",
   "execution_count": 8,
   "id": "46fe2bb6",
   "metadata": {},
   "outputs": [],
   "source": [
    "order_table['order_date']=pd.to_datetime(order_table['order_date'])\n",
    "order_table['delivery_date']=pd.to_datetime(order_table['delivery_date'])"
   ]
  },
  {
   "cell_type": "code",
   "execution_count": 9,
   "id": "a3dbecc8",
   "metadata": {},
   "outputs": [],
   "source": [
    "order_table['order_id'] = order_table['order_id'].astype(int)\n",
    "order_table['customer_id'] = order_table['customer_id'].astype(int)\n",
    "order_table['product_id'] = order_table['product_id'].astype(int)\n",
    "order_table['Quantity'] = order_table['Quantity'].astype(int)"
   ]
  },
  {
   "cell_type": "code",
   "execution_count": 10,
   "id": "ba90b78b",
   "metadata": {},
   "outputs": [],
   "source": [
    "customer_table = customer_table.drop_duplicates(subset=['customer_id'])"
   ]
  },
  {
   "cell_type": "code",
   "execution_count": 11,
   "id": "68163623",
   "metadata": {},
   "outputs": [
    {
     "name": "stdout",
     "output_type": "stream",
     "text": [
      "<class 'pandas.core.frame.DataFrame'>\n",
      "Int64Index: 1000 entries, 0 to 6745\n",
      "Data columns (total 11 columns):\n",
      " #   Column           Non-Null Count  Dtype \n",
      "---  ------           --------------  ----- \n",
      " 0   customer_id      1000 non-null   int64 \n",
      " 1   first_name       1000 non-null   object\n",
      " 2   last_name        1000 non-null   object\n",
      " 3   state            1000 non-null   object\n",
      " 4   email            1000 non-null   object\n",
      " 5   rating           1000 non-null   int64 \n",
      " 6   phone_number     1000 non-null   int64 \n",
      " 7   Quantity         1000 non-null   int64 \n",
      " 8   customer_review  1000 non-null   object\n",
      " 9   price            1000 non-null   int64 \n",
      " 10  product_bought   1000 non-null   object\n",
      "dtypes: int64(5), object(6)\n",
      "memory usage: 93.8+ KB\n"
     ]
    }
   ],
   "source": [
    "customer_table.info()"
   ]
  },
  {
   "cell_type": "markdown",
   "id": "708ed0d0",
   "metadata": {},
   "source": [
    "# Analysis"
   ]
  },
  {
   "cell_type": "markdown",
   "id": "8c56f1c0",
   "metadata": {},
   "source": [
    "# Total Revenue"
   ]
  },
  {
   "cell_type": "code",
   "execution_count": 69,
   "id": "5f3e35dc",
   "metadata": {},
   "outputs": [
    {
     "data": {
      "text/plain": [
       "685131500"
      ]
     },
     "execution_count": 69,
     "metadata": {},
     "output_type": "execute_result"
    }
   ],
   "source": [
    "sum(merged_customer_table['Revenue'])"
   ]
  },
  {
   "cell_type": "markdown",
   "id": "80dad622",
   "metadata": {},
   "source": [
    "# Total Orders"
   ]
  },
  {
   "cell_type": "code",
   "execution_count": 71,
   "id": "545d29f9",
   "metadata": {},
   "outputs": [
    {
     "data": {
      "text/plain": [
       "10000"
      ]
     },
     "execution_count": 71,
     "metadata": {},
     "output_type": "execute_result"
    }
   ],
   "source": [
    "merged_customer_table['order_id'].count()"
   ]
  },
  {
   "cell_type": "markdown",
   "id": "8899ffa0",
   "metadata": {},
   "source": [
    "# Total Quantity"
   ]
  },
  {
   "cell_type": "code",
   "execution_count": 72,
   "id": "45ed7036",
   "metadata": {},
   "outputs": [
    {
     "data": {
      "text/plain": [
       "104266"
      ]
     },
     "execution_count": 72,
     "metadata": {},
     "output_type": "execute_result"
    }
   ],
   "source": [
    "sum(merged_customer_table['Quantity_x'])"
   ]
  },
  {
   "cell_type": "markdown",
   "id": "004eb284",
   "metadata": {},
   "source": [
    "# Total Product"
   ]
  },
  {
   "cell_type": "code",
   "execution_count": 76,
   "id": "557b8c75",
   "metadata": {},
   "outputs": [
    {
     "data": {
      "text/plain": [
       "236"
      ]
     },
     "execution_count": 76,
     "metadata": {},
     "output_type": "execute_result"
    }
   ],
   "source": [
    "len(merged_customer_table['product_id'].unique())"
   ]
  },
  {
   "cell_type": "markdown",
   "id": "ff86f568",
   "metadata": {},
   "source": [
    "# Total Customer"
   ]
  },
  {
   "cell_type": "code",
   "execution_count": 80,
   "id": "263cf2f3",
   "metadata": {},
   "outputs": [
    {
     "data": {
      "text/plain": [
       "1000"
      ]
     },
     "execution_count": 80,
     "metadata": {},
     "output_type": "execute_result"
    }
   ],
   "source": [
    "len(merged_customer_table['customer_id'].unique())"
   ]
  },
  {
   "cell_type": "markdown",
   "id": "85bffc60",
   "metadata": {},
   "source": [
    "# Revenue by Years"
   ]
  },
  {
   "cell_type": "code",
   "execution_count": 12,
   "id": "ed541fdb",
   "metadata": {},
   "outputs": [],
   "source": [
    "#create the a column for revenue\n",
    "customer_table['Revenue'] = customer_table['price'] * customer_table['Quantity']"
   ]
  },
  {
   "cell_type": "code",
   "execution_count": 13,
   "id": "cb670260",
   "metadata": {},
   "outputs": [],
   "source": [
    "merged_customer_table = pd.merge(order_table, customer_table, left_on='customer_id', right_on='customer_id', how='left')"
   ]
  },
  {
   "cell_type": "code",
   "execution_count": 14,
   "id": "503d0ef6",
   "metadata": {},
   "outputs": [
    {
     "name": "stdout",
     "output_type": "stream",
     "text": [
      "<class 'pandas.core.frame.DataFrame'>\n",
      "Int64Index: 10000 entries, 0 to 9999\n",
      "Data columns (total 18 columns):\n",
      " #   Column           Non-Null Count  Dtype         \n",
      "---  ------           --------------  -----         \n",
      " 0   order_id         10000 non-null  int32         \n",
      " 1   customer_id      10000 non-null  int32         \n",
      " 2   product_id       10000 non-null  int32         \n",
      " 3   Quantity_x       10000 non-null  int32         \n",
      " 4   order_date       10000 non-null  datetime64[ns]\n",
      " 5   delivery_date    10000 non-null  datetime64[ns]\n",
      " 6   review           10000 non-null  object        \n",
      " 7   first_name       10000 non-null  object        \n",
      " 8   last_name        10000 non-null  object        \n",
      " 9   state            10000 non-null  object        \n",
      " 10  email            10000 non-null  object        \n",
      " 11  rating           10000 non-null  int64         \n",
      " 12  phone_number     10000 non-null  int64         \n",
      " 13  Quantity_y       10000 non-null  int64         \n",
      " 14  customer_review  10000 non-null  object        \n",
      " 15  price            10000 non-null  int64         \n",
      " 16  product_bought   10000 non-null  object        \n",
      " 17  Revenue          10000 non-null  int64         \n",
      "dtypes: datetime64[ns](2), int32(4), int64(5), object(7)\n",
      "memory usage: 1.3+ MB\n"
     ]
    }
   ],
   "source": [
    "merged_customer_table.info()"
   ]
  },
  {
   "cell_type": "code",
   "execution_count": 15,
   "id": "60dc5de9",
   "metadata": {},
   "outputs": [],
   "source": [
    "merged_customer_table['year'] = pd.to_datetime(merged_customer_table['order_date']).dt.year"
   ]
  },
  {
   "cell_type": "code",
   "execution_count": 16,
   "id": "2f723956",
   "metadata": {},
   "outputs": [],
   "source": [
    "merged_customer_table['month'] = pd.to_datetime(merged_customer_table['order_date']).dt.month"
   ]
  },
  {
   "cell_type": "code",
   "execution_count": 25,
   "id": "0384d6b8",
   "metadata": {},
   "outputs": [
    {
     "data": {
      "text/plain": [
       "year\n",
       "2020    119884350\n",
       "2021    147207795\n",
       "2022    157273152\n",
       "2023    155630507\n",
       "2024    105135696\n",
       "Name: Revenue, dtype: int64"
      ]
     },
     "execution_count": 25,
     "metadata": {},
     "output_type": "execute_result"
    }
   ],
   "source": [
    "revenue_by_year = merged_customer_table.groupby(['year'])['Revenue'].sum()\n",
    "revenue_by_year"
   ]
  },
  {
   "cell_type": "code",
   "execution_count": 18,
   "id": "7062837b",
   "metadata": {
    "scrolled": false
   },
   "outputs": [
    {
     "data": {
      "image/png": "[encoded data removed]",
      "text/plain": [
       "<Figure size 640x480 with 1 Axes>"
      ]
     },
     "metadata": {},
     "output_type": "display_data"
    }
   ],
   "source": [
    "# Plot the revenue trend by year\n",
    "revenue_by_year.plot(kind='line')\n",
    "plt.title(\"Revenue by Year\")\n",
    "plt.ylabel(\"Total Revenue\")\n",
    "plt.show()"
   ]
  },
  {
   "cell_type": "markdown",
   "id": "bfbf24d3",
   "metadata": {},
   "source": [
    "2020: $119,884,350\n",
    "\n",
    "2021: $147,207,795 (↑ 22.8%)\n",
    "\n",
    "2022: $157,273,152 (↑ 6.8%)\n",
    "\n",
    "2023: $155,630,507 (↓ 1.0%)\n",
    "\n",
    "2024: $105,135,696 (↓ 32.4% - partial year)\n",
    "\n",
    " Revenue increased significantly, with a major leap in 2021 (22.8% growth) and steady growth in 2022 (6.8%).In 2023, there's a slight revenue drop of 1%, which suggests potential challenges that might have impacted the business. Revenue for 2024 has dropped by 32.4%. Since 2024 data may only be partial (up to August), this decline could be explained by incomplete data"
   ]
  },
  {
   "cell_type": "markdown",
   "id": "f7169341",
   "metadata": {},
   "source": [
    "# Revenue by Month"
   ]
  },
  {
   "cell_type": "code",
   "execution_count": 26,
   "id": "65f23a31",
   "metadata": {},
   "outputs": [
    {
     "data": {
      "text/plain": [
       "month\n",
       "1     54211291\n",
       "2     61145529\n",
       "3     53205423\n",
       "4     64793112\n",
       "5     61610846\n",
       "6     58268598\n",
       "7     61245509\n",
       "8     72700326\n",
       "9     46331507\n",
       "10    45403639\n",
       "11    47929113\n",
       "12    58286607\n",
       "Name: Revenue, dtype: int64"
      ]
     },
     "execution_count": 26,
     "metadata": {},
     "output_type": "execute_result"
    }
   ],
   "source": [
    "revenue_by_month = merged_customer_table.groupby(['month'])['Revenue'].sum()\n",
    "revenue_by_month"
   ]
  },
  {
   "cell_type": "code",
   "execution_count": 23,
   "id": "0715d43e",
   "metadata": {},
   "outputs": [
    {
     "data": {
      "image/png": "[encoded data removed]",
      "text/plain": [
       "<Figure size 640x480 with 1 Axes>"
      ]
     },
     "metadata": {},
     "output_type": "display_data"
    }
   ],
   "source": [
    "# Plot the price trend by year\n",
    "revenue_by_month.plot(kind='line')\n",
    "plt.title(\"Revenue by Month \")\n",
    "plt.show()"
   ]
  },
  {
   "cell_type": "markdown",
   "id": "0b5a216e",
   "metadata": {},
   "source": [
    "Highest Revenue Months:\n",
    "\n",
    "August (Month 8) had the highest revenue at $72.7 million, followed by April ($64.8 million) and May ($61.6 million).\n",
    "\n",
    "These months generate the highest revenue, indicating potential seasonal peaks or the impact of specific events or promotions.\n",
    "\n",
    "Lowest Revenue Months:\n",
    "\n",
    "The lowest revenue occurred in September (Month 9) at $46.3 million and October (Month 10) at $45.4 million. November also had a relatively lower performance at $47.9 million.\n",
    "\n",
    "Since 2024 data may only be partial (up to August), this decline could be explained by incomplete data"
   ]
  },
  {
   "cell_type": "markdown",
   "id": "ace4c9b0",
   "metadata": {},
   "source": [
    "# Highest Number of Product Ordered"
   ]
  },
  {
   "cell_type": "code",
   "execution_count": 20,
   "id": "f6ebf0ff",
   "metadata": {
    "scrolled": false
   },
   "outputs": [
    {
     "data": {
      "text/plain": [
       "product_bought\n",
       "Napa Valley Cooking Margarine 250g                                   130\n",
       "Nestle Milo (400g Sachet)                                            113\n",
       "2Sure Hand Sanitizer Gel -250ml                                      106\n",
       "Chivita Active Juice 1ltr - 1pc                                      104\n",
       "Easy On Spray Starch - 567g (Purple )                                101\n",
       "COLGATE MAX FRESH SPICY RED 130G                                      88\n",
       "Rose Belle Serviette 50'S                                             86\n",
       "Air Wick Freshmatic Max Spray Refill -(Sparkling Citrus) (250ml)      83\n",
       "Bold Orange Drink X 12                                                83\n",
       "Cadbury Bournvita (450g Sachet)                                       81\n",
       "Hollandia Evap Milk 190g- Carton                                      79\n",
       "Ribena Blackcurrant Or Strawberry- 125ml                              78\n",
       "Hollandia Evap Full Cream Milk 120g                                   77\n",
       "Golden Penny Sugar 50kg                                               76\n",
       "Foster Clark'S Flavour (1 Piece)                                      76\n",
       "ORAL B TOOTHPASTE 130G                                                75\n",
       "SAFEGUARD SOAP LEMON FRESH 175G (Pack Of 6)                           75\n",
       "Hershey'S Chocolate Syrup                                             74\n",
       "Wind Air Freshener Mistal 150g                                        74\n",
       "Cowbell 320g Sachet                                                   73\n",
       "THREE CROWNS POWDER MILK (320G SACHET)                                73\n",
       "Freshyo Yoghurt 116ml X 16                                            72\n",
       "Nestle Milo 400g Tin                                                  71\n",
       "Dangote Sugar 50kg                                                    71\n",
       "2sure Hand And Surface Liquid Sanitizer -250ml                        71\n",
       "Hollandia Yoghurt 315ml                                               71\n",
       "Golden Penny Spread 450g                                              70\n",
       "Titus Sardine (Can Fish) - 125g                                       70\n",
       "Duracell Alkaline Power AA Battery (Set Of 4)                         70\n",
       "Cowbell Choco 340g Refill                                             69\n",
       "Granulated Sugar 1 Paint                                              69\n",
       "Munch It Sweet Surprise (Roll Of 10)                                  69\n",
       "HARPIC POWER PLUS ORIGINAL - 725ML                                    69\n",
       "Rambo Insecticide - 300ml                                             69\n",
       "Joy Aluminum Foil                                                     68\n",
       "Lucozade Boost 125ml X 16                                             68\n",
       "Dettol Anti-Bacteria Cool Soap - 60g                                  67\n",
       "COCA COLA PET 1Ltr X 6pcs                                             66\n",
       "CAPRISONNE FRUIT DRINK 200ML                                          65\n",
       "Dettol Anti-Bacteria Cool Soap 110g (Pack Of 6)                       65\n",
       "Nestle Coffee Mate Sugar Free Hazelnut 289g                           64\n",
       "Cowbell 750g                                                          64\n",
       "Foster Clark'S Food Colouring                                         63\n",
       "Peak Powdered Milk 360g (Sachet)                                      63\n",
       "Dettol Original Anti-Bacteria Soap 110g (Pack Of 6)                   62\n",
       "Falcon Parchment Paper                                                61\n",
       "STK Royal Instant Dry Yeast 500g                                      60\n",
       "Mcvitie'S Digestive Biscuit 250g                                      60\n",
       "Baker'S Choice Icing Sugar 1kg                                        60\n",
       "Rose Carla Improved Tissue                                            60\n",
       "Name: order_id, dtype: int64"
      ]
     },
     "execution_count": 20,
     "metadata": {},
     "output_type": "execute_result"
    }
   ],
   "source": [
    "most_sold_product=merged_customer_table.groupby(['product_bought'])['order_id'].count()\n",
    "most_sold_product=most_sold_product.sort_values(ascending=False)\n",
    "most_sold_product.head(50)\n"
   ]
  },
  {
   "cell_type": "markdown",
   "id": "fdee847f",
   "metadata": {},
   "source": [
    "247foods can focus on promoting popular products to further increase sales . \n",
    "It can also help optimize Product availability to avoid stockouts."
   ]
  },
  {
   "cell_type": "markdown",
   "id": "474b5c7d",
   "metadata": {},
   "source": [
    "# Least Number of Product Ordered"
   ]
  },
  {
   "cell_type": "code",
   "execution_count": 21,
   "id": "4bdeb751",
   "metadata": {
    "scrolled": false
   },
   "outputs": [
    {
     "data": {
      "text/plain": [
       "product_bought\n",
       "Checkers Custard Refill, Vanilla Flavor 1kg                 26\n",
       "MORTEIN ALL INSECTS KILLER LEMON - 250ML                    26\n",
       "Green Giant Sweetcorn- About 340g                           26\n",
       "Delta Delta Medicated Soap 175G                             26\n",
       "Popcorn Seeds Half Paint                                    25\n",
       "Rambo Insecticide - 500ml                                   25\n",
       "Ariel Detergent Ankara Colour - 2kg                         25\n",
       "NESTLE GOLDEN MORN (600G)                                   25\n",
       "Dangote Granulated Sugar 250g                               25\n",
       "Nestle Coffee Mate Origina 400g                             25\n",
       "COLGATE MAXFRESH COOLMINT 100 ML                            24\n",
       "HARPIC POWER PLUS ORIGINAL - 450ML                          24\n",
       "Rose Plus Toilet Tissue                                     24\n",
       "Hollandia Yoghurt Plain 1Ltr                                24\n",
       "Rose Belle Toilet Rolls - 2in1 Pack                         24\n",
       "Dettol Antiseptic Liquid Disinfectant - 250ml               24\n",
       "Parle G Biscuit 45g (48 Packets)                            23\n",
       "EVA Table Water 75CL X 12                                   23\n",
       "Dangote Granulated Sugar 500g                               23\n",
       "Sunripe Dried Fruits 1 Pack                                 23\n",
       "Hollandia Yoghurt Strawberry Carton - 500ml                 23\n",
       "BIGI COLA 60CL PET X 12pcs                                  22\n",
       "Mcvitie'S All Butter Shortbread Biscuit (Small)             22\n",
       "Peak Milk 800g (Sachet)                                     22\n",
       "Dettol Anti-Bacterial Soap Skin Care 75g (Pack Of 6)        21\n",
       "Hypo Super Bleach - 500ml                                   21\n",
       "Cway Nutri Milk Drink X 12                                  19\n",
       "Hungry Jack 907g X12 (Carton)                               19\n",
       "Popcorn Seeds - 1 Paint                                     18\n",
       "Caprisonne Orange 200ml X 40 (1 Carton)                     17\n",
       "Dettol Antiseptic Disinfectant Liquid - 165ml               17\n",
       "Cway Superkids Apple 210ml X 24                             16\n",
       "Falcon Cling Film Wrap                                      15\n",
       "Hypo Toilet Cleaner (725ml)                                 15\n",
       "J&W Premium Grape Juice - 75cl                              13\n",
       "Bold Tropical Drink X 12                                    12\n",
       "Minimie Chinchin Jumbo Pack                                 12\n",
       "Carex Hand Wash Assorted 250ml                              12\n",
       "Bounty Chocolate 57g                                        12\n",
       "Millville Rolled Oats 1.19kg X6 (Carton)                    11\n",
       "Lipton Lemon Drink X 12                                     11\n",
       "Dettol Anti-Bacterial Soap Skin Care - 110g                 11\n",
       "EVA Table Water 1.5L X 12                                   11\n",
       "Fresh-Yo Plain Yoghurt 400ml X 12 Pcs                       11\n",
       "LISTERINE MOUTH WASH COOLMINT 250ml                         10\n",
       "GROUNDNUT -BIG BOTTLE_PEELED (75cl)                         10\n",
       "Heinz Beanz- About 415g                                      9\n",
       "Hypo Super Bleach - 3.5Ltr                                   8\n",
       "All Purpose Flour (1 Paint) - 3kg                            7\n",
       "Windolene 4Action Glass And Shiny Surface Cleaner 500ml      4\n",
       "Name: order_id, dtype: int64"
      ]
     },
     "execution_count": 21,
     "metadata": {},
     "output_type": "execute_result"
    }
   ],
   "source": [
    "most_sold_product.tail(50)"
   ]
  },
  {
   "cell_type": "markdown",
   "id": "426185b9",
   "metadata": {},
   "source": [
    "247foods can either discontinue the sales of least performing products, or improve them based on customer feedback to boost their sales. Additionally, understanding why these products are not performing well helps refine product strategy."
   ]
  },
  {
   "cell_type": "markdown",
   "id": "9ca181f1",
   "metadata": {},
   "source": [
    "# State with More and Least Customers"
   ]
  },
  {
   "cell_type": "code",
   "execution_count": 22,
   "id": "6ce93844",
   "metadata": {
    "scrolled": false
   },
   "outputs": [
    {
     "data": {
      "text/plain": [
       "state\n",
       "Anambra        34\n",
       "Osun           32\n",
       "Ogun           32\n",
       "Rivers         32\n",
       "Plateau        32\n",
       "Oyo            32\n",
       "Nassarawa      29\n",
       "Taraba         29\n",
       "Imo            29\n",
       "Sokoto         29\n",
       "FCT            29\n",
       "Ondo           29\n",
       "Gombe          28\n",
       "Kaduna         28\n",
       "Kwara          28\n",
       "Borno          28\n",
       "Bayelsa        28\n",
       "Jigawa         27\n",
       "Adamawa        27\n",
       "Akwa Ibom      27\n",
       "Kebbi          27\n",
       "Lagos          26\n",
       "Abia           26\n",
       "Kano           26\n",
       "Edo            26\n",
       "Bauchi         26\n",
       "Niger          25\n",
       "Delta          25\n",
       "Kogi           24\n",
       "Ekiti          24\n",
       "Ebonyi         24\n",
       "Yobe           24\n",
       "Enugu          23\n",
       "Cross River    22\n",
       "Katsina        21\n",
       "Benue          21\n",
       "Zamfara        21\n",
       "Name: customer_id, dtype: int64"
      ]
     },
     "execution_count": 22,
     "metadata": {},
     "output_type": "execute_result"
    }
   ],
   "source": [
    "cust=customer_table.groupby(['state'])['customer_id'].count()\n",
    "cust=cust.sort_values(ascending=False)\n",
    "cust"
   ]
  },
  {
   "cell_type": "markdown",
   "id": "b50a737c",
   "metadata": {},
   "source": [
    "By focusing on states with fewer customers, 247foods can create location-based marketing campaigns to increase awareness and penetration. For states with more customers, loyalty programs or personalized marketing can be introduced to retain and grow the customer base."
   ]
  },
  {
   "cell_type": "markdown",
   "id": "8ca08aa1",
   "metadata": {},
   "source": [
    "# Customers with Highest Orders"
   ]
  },
  {
   "cell_type": "code",
   "execution_count": 60,
   "id": "49adc046",
   "metadata": {
    "scrolled": true
   },
   "outputs": [
    {
     "data": {
      "text/plain": [
       "customer_id  first_name   last_name\n",
       "210          Tunde        Okwuosa      23\n",
       "898          Jide         Abdullahi    22\n",
       "848          Haruna       Okoeguale    21\n",
       "425          Lami         Bello        21\n",
       "396          Abimbola     Ibrahim      20\n",
       "                                       ..\n",
       "467          Nkem         Hassan        3\n",
       "91           Aminata      Osaigbovo     3\n",
       "479          Lamide       Abubakar      2\n",
       "164          Osayemwenre  Onyekwere     2\n",
       "118          Osarodion    Ogbeide       1\n",
       "Name: order_id, Length: 1000, dtype: int64"
      ]
     },
     "execution_count": 60,
     "metadata": {},
     "output_type": "execute_result"
    }
   ],
   "source": [
    "cust_freq=merged_customer_table.groupby(['customer_id','first_name', 'last_name'])['order_id'].count()\n",
    "cust_freq=cust_freq.sort_values(ascending=False)\n",
    "cust_freq#.head(20)"
   ]
  },
  {
   "cell_type": "markdown",
   "id": "378224f4",
   "metadata": {},
   "source": [
    "247foods can implement offer personalized discounts, or introduce exclusive products to high-order customers, encouraging repeat purchases and turning them into brand advocates. Additionally, these customers can provide valuable feedback to improve products and services."
   ]
  },
  {
   "cell_type": "markdown",
   "id": "ae63b761",
   "metadata": {},
   "source": [
    "# Delivery Rate"
   ]
  },
  {
   "cell_type": "code",
   "execution_count": 25,
   "id": "aa374fc2",
   "metadata": {},
   "outputs": [],
   "source": [
    "merged_customer_table['delivary_rate']=merged_customer_table['delivery_date']-merged_customer_table['order_date']"
   ]
  },
  {
   "cell_type": "code",
   "execution_count": 26,
   "id": "3791487b",
   "metadata": {},
   "outputs": [],
   "source": [
    "merged_customer_table['delivary_rate'] =merged_customer_table['delivary_rate'].astype(str)"
   ]
  },
  {
   "cell_type": "code",
   "execution_count": 61,
   "id": "b34fdba1",
   "metadata": {},
   "outputs": [
    {
     "data": {
      "text/plain": [
       "delivary_rate\n",
       "6 days     1347\n",
       "9 days     1287\n",
       "4 days     1269\n",
       "8 days     1268\n",
       "5 days     1260\n",
       "7 days     1222\n",
       "10 days    1186\n",
       "3 days     1161\n",
       "Name: delivary_rate, dtype: int64"
      ]
     },
     "execution_count": 61,
     "metadata": {},
     "output_type": "execute_result"
    }
   ],
   "source": [
    "delivary_rate=merged_customer_table.groupby(['delivary_rate'])['delivary_rate'].count()\n",
    "delivary_rate=delivary_rate.sort_values(ascending=False)\n",
    "delivary_rate"
   ]
  },
  {
   "cell_type": "code",
   "execution_count": 28,
   "id": "18b16aa7",
   "metadata": {
    "scrolled": false
   },
   "outputs": [
    {
     "data": {
      "image/png": "[encoded data removed]",
      "text/plain": [
       "<Figure size 640x480 with 1 Axes>"
      ]
     },
     "metadata": {},
     "output_type": "display_data"
    }
   ],
   "source": [
    "# Plot the delivary \n",
    "delivary_rate.plot(kind='line')\n",
    "plt.title(\"Delivary Rate\")\n",
    "plt.show()"
   ]
  },
  {
   "cell_type": "markdown",
   "id": "f94ddb10",
   "metadata": {},
   "source": [
    "The delivery rates generally range from 3 to 10 days\n",
    "\n",
    "Faster Deliveries (3–4 days): Only about 2,430 deliveries occur in 3–4 days, which indicate that there should be an improvement in customer satisfaction on deliveries.\n",
    "\n",
    "Slow Deliveries (9–10 days): A significant number of orders (around 2,473) are taking 9-10 days for delivery, which could indicate a potential delay issue and inefficiencies in logistics.\n",
    "\n",
    "-->This could involve reviewing the regional logistics company  or analyzing peak demand periods when deliveries might slow down. Improving the logistics in these areas will enhance the overall customer experience and drive growth through improved service.\n",
    "\n",
    "-->If certain areas or products have consistently longer delivery times (e.g., 9-10 days), make sure customers are aware beforehand. Offering delivery tracking can further enhance the customer experience and reduce delivery complaints.\n"
   ]
  },
  {
   "cell_type": "markdown",
   "id": "dc5741c4",
   "metadata": {},
   "source": [
    "# Customer Reviews"
   ]
  },
  {
   "cell_type": "code",
   "execution_count": 30,
   "id": "b6022874",
   "metadata": {},
   "outputs": [
    {
     "data": {
      "text/plain": [
       "1000"
      ]
     },
     "execution_count": 30,
     "metadata": {},
     "output_type": "execute_result"
    }
   ],
   "source": [
    "len(customer_table['customer_id'].unique())"
   ]
  },
  {
   "cell_type": "code",
   "execution_count": 31,
   "id": "18942637",
   "metadata": {},
   "outputs": [
    {
     "data": {
      "text/plain": [
       "customer_id  customer_review           product_bought                                      \n",
       "453          Good product              Peak Evaporated Milk (160G TIN) - Carton Price X 24     5\n",
       "515          I got what i ordered for  COCA COLA PET 1Ltr X 6pcs                               5\n",
       "343          Good product              Baker'S Choice Icing Sugar 1kg                          5\n",
       "172          Good product              MORTEIN ALL INSECTS KILLER LEMON - 250ML                5\n",
       "173          I got what i ordered for  Fresh Yo Milk Drink 125ml X 16                          5\n",
       "                                                                                              ..\n",
       "820          Scammers                  Kelloggs Frosties 1kg (1 Box)                           1\n",
       "354          Bad product               Famous Amos Chocolate Chips 56g X42 (Carton)            1\n",
       "353          I am not coming back      Ok Sweets Banana And Cream (52 Pieces)                  1\n",
       "825          Scammers                  Napa Valley Cooking Margarine 250g                      1\n",
       "1            Scammers                  Granulated Sugar 1 Paint                                1\n",
       "Name: rating, Length: 1000, dtype: int64"
      ]
     },
     "execution_count": 31,
     "metadata": {},
     "output_type": "execute_result"
    }
   ],
   "source": [
    "rating=customer_table.groupby(['customer_id', 'customer_review','product_bought'])['rating'].sum()\n",
    "rating=rating.sort_values(ascending=False)\n",
    "rating"
   ]
  },
  {
   "cell_type": "code",
   "execution_count": 32,
   "id": "ad88c866",
   "metadata": {},
   "outputs": [],
   "source": [
    "good=customer_table.loc[customer_table['rating']>=4]"
   ]
  },
  {
   "cell_type": "code",
   "execution_count": 33,
   "id": "70e898e8",
   "metadata": {
    "scrolled": true
   },
   "outputs": [
    {
     "data": {
      "text/plain": [
       "393"
      ]
     },
     "execution_count": 33,
     "metadata": {},
     "output_type": "execute_result"
    }
   ],
   "source": [
    "len(good)"
   ]
  },
  {
   "cell_type": "code",
   "execution_count": 34,
   "id": "ab4bd1f7",
   "metadata": {},
   "outputs": [],
   "source": [
    "bad=customer_table.loc[customer_table['rating']<=3]"
   ]
  },
  {
   "cell_type": "code",
   "execution_count": 35,
   "id": "76f10ad6",
   "metadata": {},
   "outputs": [
    {
     "data": {
      "text/plain": [
       "607"
      ]
     },
     "execution_count": 35,
     "metadata": {},
     "output_type": "execute_result"
    }
   ],
   "source": [
    "len(bad)"
   ]
  },
  {
   "cell_type": "code",
   "execution_count": 36,
   "id": "18411fe5",
   "metadata": {
    "scrolled": false
   },
   "outputs": [
    {
     "data": {
      "image/png": "[encoded data removed]",
      "text/plain": [
       "<Figure size 600x600 with 1 Axes>"
      ]
     },
     "metadata": {},
     "output_type": "display_data"
    }
   ],
   "source": [
    "labels = ['Positive Rating', 'Negative Rating']\n",
    "sizes = [393, 607]\n",
    "colors = ['Blue', 'maroon']\n",
    "plt.figure(figsize=(6, 6))\n",
    "plt.pie(sizes, labels=labels, autopct='%1.1f%%', startangle=90, colors=mcolors.CSS4_COLORS)\n",
    "plt.show()"
   ]
  },
  {
   "cell_type": "markdown",
   "id": "697c1c68",
   "metadata": {},
   "source": [
    "--> Majority Negative Feedback: A significant portion of the customer reviews (60.7%) are negative, which is a concern for customer satisfaction and customer's long-term loyalty.\n",
    "\n",
    "-->Low Positive Rating: With only 39.3% of reviews being positive, this means there is need for improvement in customer experience, product quality, or service delivery, this areas need to."
   ]
  },
  {
   "cell_type": "markdown",
   "id": "cb9d1409",
   "metadata": {},
   "source": [
    "# Delivery Reviews"
   ]
  },
  {
   "cell_type": "code",
   "execution_count": 39,
   "id": "39b42fb7",
   "metadata": {},
   "outputs": [
    {
     "name": "stdout",
     "output_type": "stream",
     "text": [
      "<class 'pandas.core.frame.DataFrame'>\n",
      "RangeIndex: 1000 entries, 0 to 999\n",
      "Data columns (total 6 columns):\n",
      " #   Column          Non-Null Count  Dtype  \n",
      "---  ------          --------------  -----  \n",
      " 0   agent_id        1000 non-null   float64\n",
      " 1   delivery_agent  1000 non-null   object \n",
      " 2   product_id      1000 non-null   float64\n",
      " 3   order_date      1000 non-null   object \n",
      " 4   delivery_date   1000 non-null   object \n",
      " 5   review          1000 non-null   object \n",
      "dtypes: float64(2), object(4)\n",
      "memory usage: 47.0+ KB\n"
     ]
    }
   ],
   "source": [
    "logistics_table.info()"
   ]
  },
  {
   "cell_type": "code",
   "execution_count": 40,
   "id": "c8867da0",
   "metadata": {},
   "outputs": [
    {
     "data": {
      "text/plain": [
       "array(['Good', 'Poor delivery service', 'Slow delivery agent',\n",
       "       'Swift delivery', 'Bad', 'Fast delivery'], dtype=object)"
      ]
     },
     "execution_count": 40,
     "metadata": {},
     "output_type": "execute_result"
    }
   ],
   "source": [
    "logistics_table['review'].unique()"
   ]
  },
  {
   "cell_type": "code",
   "execution_count": 68,
   "id": "5a4ed768",
   "metadata": {},
   "outputs": [
    {
     "data": {
      "text/plain": [
       "delivery_agent  review               \n",
       "Temidayo        Bad                      30\n",
       "David           Poor delivery service    29\n",
       "Hamza           Slow delivery agent      28\n",
       "David           Slow delivery agent      28\n",
       "Akim            Poor delivery service    28\n",
       "Chidi           Poor delivery service    27\n",
       "Okafor          Poor delivery service    27\n",
       "Michael         Poor delivery service    27\n",
       "Hamza           Poor delivery service    27\n",
       "Michael         Slow delivery agent      26\n",
       "David           Bad                      25\n",
       "Daniel          Poor delivery service    25\n",
       "Dare            Poor delivery service    25\n",
       "                Bad                      24\n",
       "Shanu           Bad                      24\n",
       "                Slow delivery agent      24\n",
       "Ali             Slow delivery agent      23\n",
       "Daniel          Bad                      23\n",
       "Ali             Bad                      22\n",
       "Michael         Bad                      22\n",
       "Ali             Poor delivery service    22\n",
       "Okafor          Slow delivery agent      22\n",
       "Shanu           Poor delivery service    22\n",
       "Temidayo        Poor delivery service    22\n",
       "Dare            Slow delivery agent      21\n",
       "Chidi           Bad                      20\n",
       "Akim            Slow delivery agent      19\n",
       "Hamza           Bad                      19\n",
       "Temidayo        Slow delivery agent      19\n",
       "Okafor          Bad                      18\n",
       "Akim            Bad                      18\n",
       "Chidi           Slow delivery agent      18\n",
       "Daniel          Slow delivery agent      17\n",
       "Akim            Swift delivery           12\n",
       "Ali             Swift delivery           11\n",
       "Hamza           Fast delivery            11\n",
       "Shanu           Fast delivery            11\n",
       "David           Fast delivery            10\n",
       "Hamza           Good                      9\n",
       "Dare            Swift delivery            9\n",
       "Name: review, dtype: int64"
      ]
     },
     "execution_count": 68,
     "metadata": {},
     "output_type": "execute_result"
    }
   ],
   "source": [
    "logistics_rating=logistics_table.groupby(['delivery_agent','review'])['review'].count()\n",
    "logistics_rating=logistics_rating.sort_values(ascending=False)\n",
    "logistics_rating.head(40)"
   ]
  },
  {
   "cell_type": "markdown",
   "id": "bc22b36b",
   "metadata": {},
   "source": [
    "-->Mixed Feedback: The equal split between positive and negative delivery reviews suggests that customers are having inconsistent experiences with the delivery service.\n",
    "\n",
    "-->Potential for Improvement: While 50% of the customers are satisfied with the delivery, the other 50% have negative experiences, which presents an opportunity to enhance delivery reliability and speed.\n",
    "    \n",
    "--> Examine the specific complaints from the negative reviews. Are they related to delivery delays, damaged products, lack of communication, or issues with logistics? \n",
    "\n",
    "-->Identifying common themes will help pinpoint where improvements are needed \n",
    "\n",
    "1. working with better delivery agent\n",
    "\n",
    "2. improving packaging\n",
    "\n",
    "3. providing on time product deliveries."
   ]
  },
  {
   "cell_type": "code",
   "execution_count": null,
   "id": "c3801741",
   "metadata": {},
   "outputs": [],
   "source": []
  }
 ],
 "metadata": {
  "kernelspec": {
   "display_name": "Python 3 (ipykernel)",
   "language": "python",
   "name": "python3"
  },
  "language_info": {
   "codemirror_mode": {
    "name": "ipython",
    "version": 3
   },
   "file_extension": ".py",
   "mimetype": "text/x-python",
   "name": "python",
   "nbconvert_exporter": "python",
   "pygments_lexer": "ipython3",
   "version": "3.9.13"
  }
 },
 "nbformat": 4,
 "nbformat_minor": 5
}
